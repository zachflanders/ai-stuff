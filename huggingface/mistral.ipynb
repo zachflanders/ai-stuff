{
 "cells": [
  {
   "cell_type": "markdown",
   "metadata": {},
   "source": [
    "Following along with the example at https://ai-guide.future.mozilla.org/content/comparing-open-llms/"
   ]
  },
  {
   "cell_type": "code",
   "execution_count": null,
   "metadata": {},
   "outputs": [],
   "source": [
    "import torch\n",
    "from transformers import pipeline, set_seed, AutoModelForQuestionAnswering, AutoTokenizer, AutoModelForSeq2SeqLM"
   ]
  },
  {
   "cell_type": "code",
   "execution_count": null,
   "metadata": {},
   "outputs": [],
   "source": [
    "class ChatBot:\n",
    "\n",
    "    def __init__(self, model: str, task: str='conversational', device: str='mps') -> None:\n",
    "        self.model = model\n",
    "        self.pipeline = pipeline(task, model=model, device=device)\n",
    "        self.tokenizer = AutoTokenizer.from_pretrained(model)\n",
    "        self.model = AutoModelForSeq2SeqLM.from_pretrained(model)\n",
    "        self.conversation = []\n",
    "    \n",
    "    def __call__(self, text: str) -> str:\n",
    "        self.conversation.append(text)\n",
    "        inputs = self.tokenizer([\"</s> <s>\".join(self.conversation)], return_tensors=\"pt\")\n",
    "        reply_ids = self.model.generate(**inputs)\n",
    "        response = self.tokenizer.batch_decode(reply_ids, skip_special_tokens=True)[0]\n",
    "        self.conversation.append(response)\n",
    "        return response"
   ]
  },
  {
   "cell_type": "code",
   "execution_count": null,
   "metadata": {},
   "outputs": [],
   "source": [
    "chat = ChatBot(\"facebook/blenderbot-400M-distill\")"
   ]
  },
  {
   "cell_type": "code",
   "execution_count": null,
   "metadata": {},
   "outputs": [],
   "source": [
    "chat(\"\"\"I wrote this class to have our conversation, do you have any ideas for improvements?\n",
    "    ```python\n",
    "    class ChatBot:\n",
    "\n",
    "    def __init__(self, model: str, task: str='conversational', device: str='mps') -> None:\n",
    "        self.model = model\n",
    "        self.pipeline = pipeline(task, model=model, device=device)\n",
    "        self.tokenizer = AutoTokenizer.from_pretrained(model)\n",
    "        self.model = AutoModelForSeq2SeqLM.from_pretrained(model)\n",
    "        self.conversation = []\n",
    "    \n",
    "    def __call__(self, text: str) -> str:\n",
    "        self.conversation.append(text)\n",
    "        inputs = self.tokenizer([\"</s> <s>\".join(self.conversation)], return_tensors=\"pt\")\n",
    "        reply_ids = self.model.generate(**inputs)\n",
    "        response = self.tokenizer.batch_decode(reply_ids, skip_special_tokens=True)[0]\n",
    "        self.conversation.append(response)\n",
    "        return response\n",
    "     ```\n",
    "     \"\"\")\n",
    "display(chat.conversation)"
   ]
  },
  {
   "cell_type": "code",
   "execution_count": null,
   "metadata": {},
   "outputs": [],
   "source": []
  }
 ],
 "metadata": {
  "kernelspec": {
   "display_name": "huggingface",
   "language": "python",
   "name": "python3"
  },
  "language_info": {
   "codemirror_mode": {
    "name": "ipython",
    "version": 3
   },
   "file_extension": ".py",
   "mimetype": "text/x-python",
   "name": "python",
   "nbconvert_exporter": "python",
   "pygments_lexer": "ipython3",
   "version": "3.11.7"
  }
 },
 "nbformat": 4,
 "nbformat_minor": 2
}
